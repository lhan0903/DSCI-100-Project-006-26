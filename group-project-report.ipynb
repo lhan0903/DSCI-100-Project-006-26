{
 "cells": [
  {
   "cell_type": "markdown",
   "metadata": {},
   "source": [
    "# Group 006-26 Project Report\n",
    "#### Linda Han, Shaqed Orr, Eric Zhang, Prabhjot Singh\n",
    "\n",
    "## Introduction:\n",
    "There are a number of different factors that are attributed to different species of iris flowers. Our multivariable dataset provides information on sepal length, sepal width, petal length, and petal width, that we can use to predict the particular species of flower.\n",
    "\n",
    "\n",
    "We want to predict the species of an iris flower given its:\n",
    "1. sepal length in cm \n",
    "2. sepal width in cm\n",
    "3. petal length in cm\n",
    "4. petal width in cm\n",
    "\n",
    "\n",
    "We will be using the Iris data set found on https://archive.ics.uci.edu/ml/datasets/iris. This set contains 3 classes of 50 instances each, where each class refers to a species of iris plant. The species are Iris Setosa, Iris Versicolour, and Iris Virginica\n"
   ]
  },
  {
   "cell_type": "markdown",
   "metadata": {},
   "source": [
    "## Preliminary data analysis:\n",
    "First, we load in all the necessary libraries."
   ]
  },
  {
   "cell_type": "code",
   "execution_count": 15,
   "metadata": {},
   "outputs": [],
   "source": [
    "library(tidyverse)\n",
    "library(repr)\n",
    "library(tidymodels)\n",
    "\n",
    "options(repr.matrix.max.rows = 6) # this lists only 6 rows when we try to display the dataset"
   ]
  },
  {
   "cell_type": "markdown",
   "metadata": {},
   "source": [
    "#### Reading and cleaning the data\n",
    "\n",
    "1) We read the `iris` dataset from the original source on the web (UCI Machine Learning Repository) using `read_csv` function\n",
    "\n",
    "2) We added column names to reflect each of the attributes and mutated the `class` column such that it becomes a factor using `as_factor()`. \n",
    "\n",
    "We can now say that our dataset is **tidy** as there is a single iris observation on every row, each column is a single variable (either a measurement of the iris flower or the class it belongs to), and each cell holds a single value.\n"
   ]
  },
  {
   "cell_type": "code",
   "execution_count": 16,
   "metadata": {},
   "outputs": [
    {
     "name": "stderr",
     "output_type": "stream",
     "text": [
      "Parsed with column specification:\n",
      "cols(\n",
      "  sepal_length_cm = \u001b[32mcol_double()\u001b[39m,\n",
      "  sepal_width_cm = \u001b[32mcol_double()\u001b[39m,\n",
      "  petal_length_cm = \u001b[32mcol_double()\u001b[39m,\n",
      "  petal_width_cm = \u001b[32mcol_double()\u001b[39m,\n",
      "  class = \u001b[31mcol_character()\u001b[39m\n",
      ")\n",
      "\n"
     ]
    },
    {
     "data": {
      "text/html": [
       "<table>\n",
       "<caption>A spec_tbl_df: 150 × 5</caption>\n",
       "<thead>\n",
       "\t<tr><th scope=col>sepal_length_cm</th><th scope=col>sepal_width_cm</th><th scope=col>petal_length_cm</th><th scope=col>petal_width_cm</th><th scope=col>class</th></tr>\n",
       "\t<tr><th scope=col>&lt;dbl&gt;</th><th scope=col>&lt;dbl&gt;</th><th scope=col>&lt;dbl&gt;</th><th scope=col>&lt;dbl&gt;</th><th scope=col>&lt;fct&gt;</th></tr>\n",
       "</thead>\n",
       "<tbody>\n",
       "\t<tr><td>5.1</td><td>3.5</td><td>1.4</td><td>0.2</td><td>Iris-setosa</td></tr>\n",
       "\t<tr><td>4.9</td><td>3.0</td><td>1.4</td><td>0.2</td><td>Iris-setosa</td></tr>\n",
       "\t<tr><td>4.7</td><td>3.2</td><td>1.3</td><td>0.2</td><td>Iris-setosa</td></tr>\n",
       "\t<tr><td>⋮</td><td>⋮</td><td>⋮</td><td>⋮</td><td>⋮</td></tr>\n",
       "\t<tr><td>6.5</td><td>3.0</td><td>5.2</td><td>2.0</td><td>Iris-virginica</td></tr>\n",
       "\t<tr><td>6.2</td><td>3.4</td><td>5.4</td><td>2.3</td><td>Iris-virginica</td></tr>\n",
       "\t<tr><td>5.9</td><td>3.0</td><td>5.1</td><td>1.8</td><td>Iris-virginica</td></tr>\n",
       "</tbody>\n",
       "</table>\n"
      ],
      "text/latex": [
       "A spec\\_tbl\\_df: 150 × 5\n",
       "\\begin{tabular}{lllll}\n",
       " sepal\\_length\\_cm & sepal\\_width\\_cm & petal\\_length\\_cm & petal\\_width\\_cm & class\\\\\n",
       " <dbl> & <dbl> & <dbl> & <dbl> & <fct>\\\\\n",
       "\\hline\n",
       "\t 5.1 & 3.5 & 1.4 & 0.2 & Iris-setosa\\\\\n",
       "\t 4.9 & 3.0 & 1.4 & 0.2 & Iris-setosa\\\\\n",
       "\t 4.7 & 3.2 & 1.3 & 0.2 & Iris-setosa\\\\\n",
       "\t ⋮ & ⋮ & ⋮ & ⋮ & ⋮\\\\\n",
       "\t 6.5 & 3.0 & 5.2 & 2.0 & Iris-virginica\\\\\n",
       "\t 6.2 & 3.4 & 5.4 & 2.3 & Iris-virginica\\\\\n",
       "\t 5.9 & 3.0 & 5.1 & 1.8 & Iris-virginica\\\\\n",
       "\\end{tabular}\n"
      ],
      "text/markdown": [
       "\n",
       "A spec_tbl_df: 150 × 5\n",
       "\n",
       "| sepal_length_cm &lt;dbl&gt; | sepal_width_cm &lt;dbl&gt; | petal_length_cm &lt;dbl&gt; | petal_width_cm &lt;dbl&gt; | class &lt;fct&gt; |\n",
       "|---|---|---|---|---|\n",
       "| 5.1 | 3.5 | 1.4 | 0.2 | Iris-setosa |\n",
       "| 4.9 | 3.0 | 1.4 | 0.2 | Iris-setosa |\n",
       "| 4.7 | 3.2 | 1.3 | 0.2 | Iris-setosa |\n",
       "| ⋮ | ⋮ | ⋮ | ⋮ | ⋮ |\n",
       "| 6.5 | 3.0 | 5.2 | 2.0 | Iris-virginica |\n",
       "| 6.2 | 3.4 | 5.4 | 2.3 | Iris-virginica |\n",
       "| 5.9 | 3.0 | 5.1 | 1.8 | Iris-virginica |\n",
       "\n"
      ],
      "text/plain": [
       "    sepal_length_cm sepal_width_cm petal_length_cm petal_width_cm\n",
       "1   5.1             3.5            1.4             0.2           \n",
       "2   4.9             3.0            1.4             0.2           \n",
       "3   4.7             3.2            1.3             0.2           \n",
       "⋮   ⋮               ⋮              ⋮               ⋮             \n",
       "148 6.5             3.0            5.2             2.0           \n",
       "149 6.2             3.4            5.4             2.3           \n",
       "150 5.9             3.0            5.1             1.8           \n",
       "    class         \n",
       "1   Iris-setosa   \n",
       "2   Iris-setosa   \n",
       "3   Iris-setosa   \n",
       "⋮   ⋮             \n",
       "148 Iris-virginica\n",
       "149 Iris-virginica\n",
       "150 Iris-virginica"
      ]
     },
     "metadata": {},
     "output_type": "display_data"
    }
   ],
   "source": [
    "iris_col <- c(\"sepal_length_cm\", \"sepal_width_cm\", \"petal_length_cm\", \"petal_width_cm\", \"class\")\n",
    "iris <- read_csv(\"https://archive.ics.uci.edu/ml/machine-learning-databases/iris/iris.data\", col_names= iris_col) %>% \n",
    "        mutate(class = as_factor(class))\n",
    "\n",
    "iris"
   ]
  },
  {
   "cell_type": "markdown",
   "metadata": {},
   "source": [
    "<br>\n",
    "\n",
    "#### Splitting the Data"
   ]
  },
  {
   "cell_type": "markdown",
   "metadata": {},
   "source": [
    "In order to ensure the reproducibility of our results, we use the `set.seed()` function with a randomly chosen initial value. \n",
    "\n",
    "There are 150 observations in total and we see from `table 0.1` below that there are 50 observations from each iris class. "
   ]
  },
  {
   "cell_type": "code",
   "execution_count": 59,
   "metadata": {},
   "outputs": [
    {
     "data": {
      "text/html": [
       "'Table 0.1'"
      ],
      "text/latex": [
       "'Table 0.1'"
      ],
      "text/markdown": [
       "'Table 0.1'"
      ],
      "text/plain": [
       "[1] \"Table 0.1\""
      ]
     },
     "metadata": {},
     "output_type": "display_data"
    },
    {
     "data": {
      "text/html": [
       "<table>\n",
       "<caption>A spec_tbl_df: 3 × 2</caption>\n",
       "<thead>\n",
       "\t<tr><th scope=col>class</th><th scope=col>n</th></tr>\n",
       "\t<tr><th scope=col>&lt;fct&gt;</th><th scope=col>&lt;int&gt;</th></tr>\n",
       "</thead>\n",
       "<tbody>\n",
       "\t<tr><td>Iris-setosa    </td><td>50</td></tr>\n",
       "\t<tr><td>Iris-versicolor</td><td>50</td></tr>\n",
       "\t<tr><td>Iris-virginica </td><td>50</td></tr>\n",
       "</tbody>\n",
       "</table>\n"
      ],
      "text/latex": [
       "A spec\\_tbl\\_df: 3 × 2\n",
       "\\begin{tabular}{ll}\n",
       " class & n\\\\\n",
       " <fct> & <int>\\\\\n",
       "\\hline\n",
       "\t Iris-setosa     & 50\\\\\n",
       "\t Iris-versicolor & 50\\\\\n",
       "\t Iris-virginica  & 50\\\\\n",
       "\\end{tabular}\n"
      ],
      "text/markdown": [
       "\n",
       "A spec_tbl_df: 3 × 2\n",
       "\n",
       "| class &lt;fct&gt; | n &lt;int&gt; |\n",
       "|---|---|\n",
       "| Iris-setosa     | 50 |\n",
       "| Iris-versicolor | 50 |\n",
       "| Iris-virginica  | 50 |\n",
       "\n"
      ],
      "text/plain": [
       "  class           n \n",
       "1 Iris-setosa     50\n",
       "2 Iris-versicolor 50\n",
       "3 Iris-virginica  50"
      ]
     },
     "metadata": {},
     "output_type": "display_data"
    }
   ],
   "source": [
    "# Summarizes the number of observations in each class \n",
    "# (Iris-setosa, Iris-veriscolor, or Iris-virginica)\n",
    "count <- iris %>%\n",
    "        count(class)\n",
    "\n",
    "'Table 0.1'\n",
    "count"
   ]
  },
  {
   "cell_type": "markdown",
   "metadata": {},
   "source": [
    "Since the proportion of each class is equally represented and the data size isn't large, we choose to partition the data into a training (80%) and testing set (20%) using functions from the `tidymodels` package. "
   ]
  },
  {
   "cell_type": "code",
   "execution_count": 43,
   "metadata": {},
   "outputs": [],
   "source": [
    "set.seed(777)\n",
    "\n",
    "iris_split <- initial_split(iris, prop = 0.80, strata = class)\n",
    "iris_train <- training(iris_split)\n",
    "iris_test <- testing(iris_split)"
   ]
  },
  {
   "cell_type": "markdown",
   "metadata": {},
   "source": [
    "<br>\n",
    "\n",
    "#### Summary of the training data"
   ]
  },
  {
   "cell_type": "markdown",
   "metadata": {},
   "source": [
    "Using only the training data, we summarize the data into 2 tables and count the number of rows with missing values to check that all of our rows have values."
   ]
  },
  {
   "cell_type": "markdown",
   "metadata": {},
   "source": [
    "1. A summary of the average value of each column using `summarize()` and `across()` "
   ]
  },
  {
   "cell_type": "code",
   "execution_count": 58,
   "metadata": {},
   "outputs": [
    {
     "data": {
      "text/html": [
       "'Table 1.1'"
      ],
      "text/latex": [
       "'Table 1.1'"
      ],
      "text/markdown": [
       "'Table 1.1'"
      ],
      "text/plain": [
       "[1] \"Table 1.1\""
      ]
     },
     "metadata": {},
     "output_type": "display_data"
    },
    {
     "data": {
      "text/html": [
       "<table>\n",
       "<caption>A tibble: 1 × 4</caption>\n",
       "<thead>\n",
       "\t<tr><th scope=col>sepal_length_cm</th><th scope=col>sepal_width_cm</th><th scope=col>petal_length_cm</th><th scope=col>petal_width_cm</th></tr>\n",
       "\t<tr><th scope=col>&lt;dbl&gt;</th><th scope=col>&lt;dbl&gt;</th><th scope=col>&lt;dbl&gt;</th><th scope=col>&lt;dbl&gt;</th></tr>\n",
       "</thead>\n",
       "<tbody>\n",
       "\t<tr><td>5.854472</td><td>3.06748</td><td>3.771545</td><td>1.198374</td></tr>\n",
       "</tbody>\n",
       "</table>\n"
      ],
      "text/latex": [
       "A tibble: 1 × 4\n",
       "\\begin{tabular}{llll}\n",
       " sepal\\_length\\_cm & sepal\\_width\\_cm & petal\\_length\\_cm & petal\\_width\\_cm\\\\\n",
       " <dbl> & <dbl> & <dbl> & <dbl>\\\\\n",
       "\\hline\n",
       "\t 5.854472 & 3.06748 & 3.771545 & 1.198374\\\\\n",
       "\\end{tabular}\n"
      ],
      "text/markdown": [
       "\n",
       "A tibble: 1 × 4\n",
       "\n",
       "| sepal_length_cm &lt;dbl&gt; | sepal_width_cm &lt;dbl&gt; | petal_length_cm &lt;dbl&gt; | petal_width_cm &lt;dbl&gt; |\n",
       "|---|---|---|---|\n",
       "| 5.854472 | 3.06748 | 3.771545 | 1.198374 |\n",
       "\n"
      ],
      "text/plain": [
       "  sepal_length_cm sepal_width_cm petal_length_cm petal_width_cm\n",
       "1 5.854472        3.06748        3.771545        1.198374      "
      ]
     },
     "metadata": {},
     "output_type": "display_data"
    }
   ],
   "source": [
    "iris_avg_size <- iris_train %>%\n",
    "        summarize(across(sepal_length_cm:petal_width_cm, mean))\n",
    "\n",
    "'Table 1.1'\n",
    "iris_avg_size"
   ]
  },
  {
   "cell_type": "markdown",
   "metadata": {},
   "source": [
    "<br>\n",
    "\n",
    "2. A summary of the number of observations in each class (Iris-setosa, Iris-veriscolor, or Iris-virginica)"
   ]
  },
  {
   "cell_type": "code",
   "execution_count": 60,
   "metadata": {},
   "outputs": [
    {
     "data": {
      "text/html": [
       "'Table 1.2'"
      ],
      "text/latex": [
       "'Table 1.2'"
      ],
      "text/markdown": [
       "'Table 1.2'"
      ],
      "text/plain": [
       "[1] \"Table 1.2\""
      ]
     },
     "metadata": {},
     "output_type": "display_data"
    },
    {
     "data": {
      "text/html": [
       "<table>\n",
       "<caption>A tibble: 3 × 2</caption>\n",
       "<thead>\n",
       "\t<tr><th scope=col>class</th><th scope=col>n</th></tr>\n",
       "\t<tr><th scope=col>&lt;fct&gt;</th><th scope=col>&lt;int&gt;</th></tr>\n",
       "</thead>\n",
       "<tbody>\n",
       "\t<tr><td>Iris-setosa    </td><td>41</td></tr>\n",
       "\t<tr><td>Iris-versicolor</td><td>41</td></tr>\n",
       "\t<tr><td>Iris-virginica </td><td>41</td></tr>\n",
       "</tbody>\n",
       "</table>\n"
      ],
      "text/latex": [
       "A tibble: 3 × 2\n",
       "\\begin{tabular}{ll}\n",
       " class & n\\\\\n",
       " <fct> & <int>\\\\\n",
       "\\hline\n",
       "\t Iris-setosa     & 41\\\\\n",
       "\t Iris-versicolor & 41\\\\\n",
       "\t Iris-virginica  & 41\\\\\n",
       "\\end{tabular}\n"
      ],
      "text/markdown": [
       "\n",
       "A tibble: 3 × 2\n",
       "\n",
       "| class &lt;fct&gt; | n &lt;int&gt; |\n",
       "|---|---|\n",
       "| Iris-setosa     | 41 |\n",
       "| Iris-versicolor | 41 |\n",
       "| Iris-virginica  | 41 |\n",
       "\n"
      ],
      "text/plain": [
       "  class           n \n",
       "1 Iris-setosa     41\n",
       "2 Iris-versicolor 41\n",
       "3 Iris-virginica  41"
      ]
     },
     "metadata": {},
     "output_type": "display_data"
    }
   ],
   "source": [
    "iris_class_count <- iris_train %>%\n",
    "        count(class)\n",
    "\n",
    "'Table 1.2'\n",
    "iris_class_count"
   ]
  },
  {
   "cell_type": "markdown",
   "metadata": {},
   "source": [
    "<br>\n",
    "\n",
    "3. A count of the number of missing rows"
   ]
  },
  {
   "cell_type": "code",
   "execution_count": 62,
   "metadata": {},
   "outputs": [
    {
     "data": {
      "text/html": [
       "0"
      ],
      "text/latex": [
       "0"
      ],
      "text/markdown": [
       "0"
      ],
      "text/plain": [
       "[1] 0"
      ]
     },
     "metadata": {},
     "output_type": "display_data"
    }
   ],
   "source": [
    "sum(is.na(iris_train))"
   ]
  },
  {
   "cell_type": "markdown",
   "metadata": {},
   "source": [
    "<br>\n",
    "\n",
    "#### Visualization of the training data\n",
    "\n",
    "Using only training data, we conduct an exploratory data analysis by visualizing the data with two scatterplots."
   ]
  },
  {
   "cell_type": "markdown",
   "metadata": {},
   "source": [
    "For the first graph, we use `ggplot()` to plot the predictors `sepal_width_cm` on the y-axis against `sepal_length_cm` on the x-axis. We also set `colour = \"Class\"` to mark each observation according to their class.\n",
    "\n",
    "To improve readability, we use the `options()` and `theme()` functions to modify the size of the plot and labels"
   ]
  },
  {
   "cell_type": "code",
   "execution_count": 71,
   "metadata": {},
   "outputs": [
    {
     "data": {
      "image/png": "[encoded data removed]",
      "text/plain": [
       "plot without title"
      ]
     },
     "metadata": {
      "image/png": {
       "height": 360,
       "width": 480
      }
     },
     "output_type": "display_data"
    }
   ],
   "source": [
    "# Graph 1\n",
    "options(repr.plot.width = 8, repr.plot.height = 6)\n",
    "\n",
    "iris_plot_sepal <- ggplot(data = iris_train, \n",
    "                          aes(x = sepal_length_cm, y = sepal_width_cm , colour = class )) +\n",
    "                geom_point() +\n",
    "                labs(x = \"Sepal length (cm)\", y = \"Sepal width (cm)\",\n",
    "                     colour = \"Class\", caption = \"Figure 1.1\") +\n",
    "                ggtitle(\"Sepal Width vs Sepal Length\") +\n",
    "                theme(text = element_text(size = 20))\n",
    "\n",
    "iris_plot_sepal"
   ]
  },
  {
   "cell_type": "markdown",
   "metadata": {},
   "source": [
    "<br>\n",
    "\n",
    "For the second graph, we repeat the same things we did for graph 1 and change the "
   ]
  },
  {
   "cell_type": "code",
   "execution_count": 65,
   "metadata": {},
   "outputs": [
    {
     "data": {
      "image/png": "[encoded data removed]",
      "text/plain": [
       "plot without title"
      ]
     },
     "metadata": {
      "image/png": {
       "height": 420,
       "width": 420
      }
     },
     "output_type": "display_data"
    }
   ],
   "source": [
    "# Graph 2\n",
    "iris_plot_petal <- ggplot(data = iris_train,\n",
    "                          aes(x = petal_length_cm, y = petal_width_cm , colour = class )) +\n",
    "                    geom_point() +\n",
    "                    labs(x = \"Petal length (cm)\", y = \"Petal width (cm)\",\n",
    "                         colour = \"Class\", caption = \"Figure 1.2\") +\n",
    "                    ggtitle(\"Petal Width vs Petal Length\") +\n",
    "                    theme(text = element_text(size = 20))\n",
    "\n",
    "iris_plot_petal"
   ]
  },
  {
   "cell_type": "markdown",
   "metadata": {},
   "source": [
    "## Building The K-Nearest Neighbour Classifier"
   ]
  },
  {
   "cell_type": "markdown",
   "metadata": {},
   "source": [
    "### Model Training Phase \n",
    "\n",
    "----------------------------"
   ]
  },
  {
   "cell_type": "markdown",
   "metadata": {},
   "source": [
    "#### 1. Recipe \n",
    "\n",
    "Scale and center all predictors (is it needed? since they are have same unit (cm))"
   ]
  },
  {
   "cell_type": "code",
   "execution_count": 21,
   "metadata": {},
   "outputs": [
    {
     "data": {
      "text/plain": [
       "Data Recipe\n",
       "\n",
       "Inputs:\n",
       "\n",
       "      role #variables\n",
       "   outcome          1\n",
       " predictor          4\n",
       "\n",
       "Operations:\n",
       "\n",
       "Centering for all_predictors()\n",
       "Scaling for all_predictors()"
      ]
     },
     "metadata": {},
     "output_type": "display_data"
    }
   ],
   "source": [
    "iris_recipe <- recipe(class ~ ., data = iris_train) %>% \n",
    "            step_center(all_predictors()) %>% \n",
    "            step_scale(all_predictors()) \n",
    "\n",
    "iris_recipe"
   ]
  },
  {
   "cell_type": "markdown",
   "metadata": {},
   "source": [
    "<br>\n",
    "\n",
    "To visualize the scaled iris_train data, we use prep and bake functions"
   ]
  },
  {
   "cell_type": "code",
   "execution_count": 22,
   "metadata": {},
   "outputs": [
    {
     "data": {
      "text/html": [
       "<table>\n",
       "<caption>A tibble: 123 × 5</caption>\n",
       "<thead>\n",
       "\t<tr><th scope=col>sepal_length_cm</th><th scope=col>sepal_width_cm</th><th scope=col>petal_length_cm</th><th scope=col>petal_width_cm</th><th scope=col>class</th></tr>\n",
       "\t<tr><th scope=col>&lt;dbl&gt;</th><th scope=col>&lt;dbl&gt;</th><th scope=col>&lt;dbl&gt;</th><th scope=col>&lt;dbl&gt;</th><th scope=col>&lt;fct&gt;</th></tr>\n",
       "</thead>\n",
       "<tbody>\n",
       "\t<tr><td>-1.157990</td><td>-0.15110630</td><td>-1.329810</td><td>-1.308899</td><td>Iris-setosa</td></tr>\n",
       "\t<tr><td>-1.400635</td><td> 0.29675092</td><td>-1.385883</td><td>-1.308899</td><td>Iris-setosa</td></tr>\n",
       "\t<tr><td>-1.521958</td><td> 0.07282231</td><td>-1.273736</td><td>-1.308899</td><td>Iris-setosa</td></tr>\n",
       "\t<tr><td>⋮</td><td>⋮</td><td>⋮</td><td>⋮</td><td>⋮</td></tr>\n",
       "\t<tr><td>0.78317214</td><td>-0.1511063</td><td>0.8009859</td><td>1.0509564</td><td>Iris-virginica</td></tr>\n",
       "\t<tr><td>0.41920423</td><td> 0.7446081</td><td>0.9131331</td><td>1.4442657</td><td>Iris-virginica</td></tr>\n",
       "\t<tr><td>0.05523632</td><td>-0.1511063</td><td>0.7449123</td><td>0.7887503</td><td>Iris-virginica</td></tr>\n",
       "</tbody>\n",
       "</table>\n"
      ],
      "text/latex": [
       "A tibble: 123 × 5\n",
       "\\begin{tabular}{lllll}\n",
       " sepal\\_length\\_cm & sepal\\_width\\_cm & petal\\_length\\_cm & petal\\_width\\_cm & class\\\\\n",
       " <dbl> & <dbl> & <dbl> & <dbl> & <fct>\\\\\n",
       "\\hline\n",
       "\t -1.157990 & -0.15110630 & -1.329810 & -1.308899 & Iris-setosa\\\\\n",
       "\t -1.400635 &  0.29675092 & -1.385883 & -1.308899 & Iris-setosa\\\\\n",
       "\t -1.521958 &  0.07282231 & -1.273736 & -1.308899 & Iris-setosa\\\\\n",
       "\t ⋮ & ⋮ & ⋮ & ⋮ & ⋮\\\\\n",
       "\t 0.78317214 & -0.1511063 & 0.8009859 & 1.0509564 & Iris-virginica\\\\\n",
       "\t 0.41920423 &  0.7446081 & 0.9131331 & 1.4442657 & Iris-virginica\\\\\n",
       "\t 0.05523632 & -0.1511063 & 0.7449123 & 0.7887503 & Iris-virginica\\\\\n",
       "\\end{tabular}\n"
      ],
      "text/markdown": [
       "\n",
       "A tibble: 123 × 5\n",
       "\n",
       "| sepal_length_cm &lt;dbl&gt; | sepal_width_cm &lt;dbl&gt; | petal_length_cm &lt;dbl&gt; | petal_width_cm &lt;dbl&gt; | class &lt;fct&gt; |\n",
       "|---|---|---|---|---|\n",
       "| -1.157990 | -0.15110630 | -1.329810 | -1.308899 | Iris-setosa |\n",
       "| -1.400635 |  0.29675092 | -1.385883 | -1.308899 | Iris-setosa |\n",
       "| -1.521958 |  0.07282231 | -1.273736 | -1.308899 | Iris-setosa |\n",
       "| ⋮ | ⋮ | ⋮ | ⋮ | ⋮ |\n",
       "| 0.78317214 | -0.1511063 | 0.8009859 | 1.0509564 | Iris-virginica |\n",
       "| 0.41920423 |  0.7446081 | 0.9131331 | 1.4442657 | Iris-virginica |\n",
       "| 0.05523632 | -0.1511063 | 0.7449123 | 0.7887503 | Iris-virginica |\n",
       "\n"
      ],
      "text/plain": [
       "    sepal_length_cm sepal_width_cm petal_length_cm petal_width_cm\n",
       "1   -1.157990       -0.15110630    -1.329810       -1.308899     \n",
       "2   -1.400635        0.29675092    -1.385883       -1.308899     \n",
       "3   -1.521958        0.07282231    -1.273736       -1.308899     \n",
       "⋮   ⋮               ⋮              ⋮               ⋮             \n",
       "121 0.78317214      -0.1511063     0.8009859       1.0509564     \n",
       "122 0.41920423       0.7446081     0.9131331       1.4442657     \n",
       "123 0.05523632      -0.1511063     0.7449123       0.7887503     \n",
       "    class         \n",
       "1   Iris-setosa   \n",
       "2   Iris-setosa   \n",
       "3   Iris-setosa   \n",
       "⋮   ⋮             \n",
       "121 Iris-virginica\n",
       "122 Iris-virginica\n",
       "123 Iris-virginica"
      ]
     },
     "metadata": {},
     "output_type": "display_data"
    }
   ],
   "source": [
    "iris_scaled <- iris_recipe %>% \n",
    "                prep() %>% \n",
    "                bake(iris_train)\n",
    "\n",
    "iris_scaled"
   ]
  },
  {
   "cell_type": "markdown",
   "metadata": {},
   "source": [
    "#### 2. Model Specification\n",
    "\n",
    "We create a nearest neighbour model"
   ]
  },
  {
   "cell_type": "code",
   "execution_count": 23,
   "metadata": {},
   "outputs": [
    {
     "data": {
      "text/plain": [
       "K-Nearest Neighbor Model Specification (classification)\n",
       "\n",
       "Main Arguments:\n",
       "  neighbors = tune()\n",
       "  weight_func = rectangular\n",
       "\n",
       "Computational engine: kknn \n"
      ]
     },
     "metadata": {},
     "output_type": "display_data"
    }
   ],
   "source": [
    "iris_spec <- nearest_neighbor(weight_func = \"rectangular\", neighbors = tune()) %>% \n",
    "            set_engine(\"kknn\") %>% \n",
    "            set_mode(\"classification\")\n",
    "\n",
    "iris_spec"
   ]
  },
  {
   "cell_type": "markdown",
   "metadata": {},
   "source": [
    "#### 3. vfold"
   ]
  },
  {
   "cell_type": "markdown",
   "metadata": {},
   "source": [
    "We chose 5 folds because... TODO"
   ]
  },
  {
   "cell_type": "code",
   "execution_count": 24,
   "metadata": {},
   "outputs": [],
   "source": [
    "iris_vfold <- vfold_cv(iris_train, v = 5, strata = class)"
   ]
  },
  {
   "cell_type": "markdown",
   "metadata": {},
   "source": [
    "#### 4. Workflow"
   ]
  },
  {
   "cell_type": "code",
   "execution_count": 25,
   "metadata": {},
   "outputs": [],
   "source": [
    "k_vals <- tibble(neighbors = seq(from=1, to=20, by=1))"
   ]
  },
  {
   "cell_type": "code",
   "execution_count": 26,
   "metadata": {},
   "outputs": [],
   "source": [
    "iris_tune_workflow <- workflow() %>% \n",
    "    add_recipe(iris_recipe) %>% \n",
    "    add_model(iris_spec) %>% \n",
    "    tune_grid(resamples = iris_vfold, grid = k_vals)"
   ]
  },
  {
   "cell_type": "markdown",
   "metadata": {},
   "source": [
    "#### 5. Collect Metrics"
   ]
  },
  {
   "cell_type": "code",
   "execution_count": 33,
   "metadata": {},
   "outputs": [
    {
     "data": {
      "text/html": [
       "<table>\n",
       "<caption>A tibble: 20 × 7</caption>\n",
       "<thead>\n",
       "\t<tr><th scope=col>neighbors</th><th scope=col>.metric</th><th scope=col>.estimator</th><th scope=col>mean</th><th scope=col>n</th><th scope=col>std_err</th><th scope=col>.config</th></tr>\n",
       "\t<tr><th scope=col>&lt;dbl&gt;</th><th scope=col>&lt;chr&gt;</th><th scope=col>&lt;chr&gt;</th><th scope=col>&lt;dbl&gt;</th><th scope=col>&lt;int&gt;</th><th scope=col>&lt;dbl&gt;</th><th scope=col>&lt;chr&gt;</th></tr>\n",
       "</thead>\n",
       "<tbody>\n",
       "\t<tr><td>7</td><td>accuracy</td><td>multiclass</td><td>0.9685185</td><td>5</td><td>0.0141488</td><td>Model07</td></tr>\n",
       "\t<tr><td>8</td><td>accuracy</td><td>multiclass</td><td>0.9685185</td><td>5</td><td>0.0141488</td><td>Model08</td></tr>\n",
       "\t<tr><td>9</td><td>accuracy</td><td>multiclass</td><td>0.9685185</td><td>5</td><td>0.0141488</td><td>Model09</td></tr>\n",
       "\t<tr><td>⋮</td><td>⋮</td><td>⋮</td><td>⋮</td><td>⋮</td><td>⋮</td><td>⋮</td></tr>\n",
       "\t<tr><td> 2</td><td>accuracy</td><td>multiclass</td><td>0.9435185</td><td>5</td><td>0.016064214</td><td>Model02</td></tr>\n",
       "\t<tr><td>19</td><td>accuracy</td><td>multiclass</td><td>0.9435185</td><td>5</td><td>0.009189552</td><td>Model19</td></tr>\n",
       "\t<tr><td>20</td><td>accuracy</td><td>multiclass</td><td>0.9435185</td><td>5</td><td>0.009189552</td><td>Model20</td></tr>\n",
       "</tbody>\n",
       "</table>\n"
      ],
      "text/latex": [
       "A tibble: 20 × 7\n",
       "\\begin{tabular}{lllllll}\n",
       " neighbors & .metric & .estimator & mean & n & std\\_err & .config\\\\\n",
       " <dbl> & <chr> & <chr> & <dbl> & <int> & <dbl> & <chr>\\\\\n",
       "\\hline\n",
       "\t 7 & accuracy & multiclass & 0.9685185 & 5 & 0.0141488 & Model07\\\\\n",
       "\t 8 & accuracy & multiclass & 0.9685185 & 5 & 0.0141488 & Model08\\\\\n",
       "\t 9 & accuracy & multiclass & 0.9685185 & 5 & 0.0141488 & Model09\\\\\n",
       "\t ⋮ & ⋮ & ⋮ & ⋮ & ⋮ & ⋮ & ⋮\\\\\n",
       "\t  2 & accuracy & multiclass & 0.9435185 & 5 & 0.016064214 & Model02\\\\\n",
       "\t 19 & accuracy & multiclass & 0.9435185 & 5 & 0.009189552 & Model19\\\\\n",
       "\t 20 & accuracy & multiclass & 0.9435185 & 5 & 0.009189552 & Model20\\\\\n",
       "\\end{tabular}\n"
      ],
      "text/markdown": [
       "\n",
       "A tibble: 20 × 7\n",
       "\n",
       "| neighbors &lt;dbl&gt; | .metric &lt;chr&gt; | .estimator &lt;chr&gt; | mean &lt;dbl&gt; | n &lt;int&gt; | std_err &lt;dbl&gt; | .config &lt;chr&gt; |\n",
       "|---|---|---|---|---|---|---|\n",
       "| 7 | accuracy | multiclass | 0.9685185 | 5 | 0.0141488 | Model07 |\n",
       "| 8 | accuracy | multiclass | 0.9685185 | 5 | 0.0141488 | Model08 |\n",
       "| 9 | accuracy | multiclass | 0.9685185 | 5 | 0.0141488 | Model09 |\n",
       "| ⋮ | ⋮ | ⋮ | ⋮ | ⋮ | ⋮ | ⋮ |\n",
       "|  2 | accuracy | multiclass | 0.9435185 | 5 | 0.016064214 | Model02 |\n",
       "| 19 | accuracy | multiclass | 0.9435185 | 5 | 0.009189552 | Model19 |\n",
       "| 20 | accuracy | multiclass | 0.9435185 | 5 | 0.009189552 | Model20 |\n",
       "\n"
      ],
      "text/plain": [
       "   neighbors .metric  .estimator mean      n std_err     .config\n",
       "1  7         accuracy multiclass 0.9685185 5 0.0141488   Model07\n",
       "2  8         accuracy multiclass 0.9685185 5 0.0141488   Model08\n",
       "3  9         accuracy multiclass 0.9685185 5 0.0141488   Model09\n",
       "⋮  ⋮         ⋮        ⋮          ⋮         ⋮ ⋮           ⋮      \n",
       "18  2        accuracy multiclass 0.9435185 5 0.016064214 Model02\n",
       "19 19        accuracy multiclass 0.9435185 5 0.009189552 Model19\n",
       "20 20        accuracy multiclass 0.9435185 5 0.009189552 Model20"
      ]
     },
     "metadata": {},
     "output_type": "display_data"
    }
   ],
   "source": [
    "iris_metrics_tune <- iris_tune_workflow %>% \n",
    "    collect_metrics() %>% \n",
    "    filter(.metric == \"accuracy\") %>% \n",
    "    arrange(desc(mean))\n",
    "\n",
    "iris_metrics_tune"
   ]
  },
  {
   "cell_type": "markdown",
   "metadata": {},
   "source": [
    "#### 6. Plot Neighbors vs Accuracy Graph"
   ]
  },
  {
   "cell_type": "markdown",
   "metadata": {},
   "source": [
    "We use `scale_x_continuous()` to adjust the x-axis"
   ]
  },
  {
   "cell_type": "code",
   "execution_count": 70,
   "metadata": {},
   "outputs": [
    {
     "data": {
      "image/png": "[encoded data removed]",
      "text/plain": [
       "plot without title"
      ]
     },
     "metadata": {
      "image/png": {
       "height": 420,
       "width": 420
      }
     },
     "output_type": "display_data"
    }
   ],
   "source": [
    "neighbors_plot <- ggplot(iris_metrics_tune, aes(x=neighbors, y=mean)) + \n",
    "    geom_point() +\n",
    "    geom_line() +\n",
    "    labs(x = \"Neighbors\", y = \"Accuracy Estimate\") + \n",
    "    theme(text = element_text(size = 12)) +\n",
    "    scale_x_continuous(breaks = seq(0, 25, by = 2))\n",
    "\n",
    "neighbors_plot"
   ]
  },
  {
   "cell_type": "markdown",
   "metadata": {},
   "source": [
    "#### We find that the optimal $K$ is 7"
   ]
  },
  {
   "cell_type": "markdown",
   "metadata": {},
   "source": [
    "#### 7. Rebuild Model Specification and Workflow with $K$ = 7"
   ]
  },
  {
   "cell_type": "code",
   "execution_count": 38,
   "metadata": {},
   "outputs": [
    {
     "data": {
      "text/plain": [
       "K-Nearest Neighbor Model Specification (classification)\n",
       "\n",
       "Main Arguments:\n",
       "  neighbors = 7\n",
       "  weight_func = rectangular\n",
       "\n",
       "Computational engine: kknn \n"
      ]
     },
     "metadata": {},
     "output_type": "display_data"
    },
    {
     "data": {
      "text/plain": [
       "══ Workflow [trained] ══════════════════════════════════════════════════════════\n",
       "\u001b[3mPreprocessor:\u001b[23m Recipe\n",
       "\u001b[3mModel:\u001b[23m nearest_neighbor()\n",
       "\n",
       "── Preprocessor ────────────────────────────────────────────────────────────────\n",
       "2 Recipe Steps\n",
       "\n",
       "● step_center()\n",
       "● step_scale()\n",
       "\n",
       "── Model ───────────────────────────────────────────────────────────────────────\n",
       "\n",
       "Call:\n",
       "kknn::train.kknn(formula = ..y ~ ., data = data, ks = ~7, kernel = ~\"rectangular\")\n",
       "\n",
       "Type of response variable: nominal\n",
       "Minimal misclassification: 0.03252033\n",
       "Best kernel: rectangular\n",
       "Best k: 7"
      ]
     },
     "metadata": {},
     "output_type": "display_data"
    }
   ],
   "source": [
    "iris_spec_optimal <- nearest_neighbor(weight_func = \"rectangular\", neighbors = 7) %>% \n",
    "            set_engine(\"kknn\") %>% \n",
    "            set_mode(\"classification\")\n",
    "\n",
    "iris_spec_optimal\n",
    "\n",
    "iris_fit <- workflow() %>% \n",
    "    add_recipe(iris_recipe) %>% \n",
    "    add_model(iris_spec_optimal) %>% \n",
    "    fit(iris_train)\n",
    "\n",
    "iris_fit"
   ]
  },
  {
   "cell_type": "markdown",
   "metadata": {},
   "source": [
    "<br> \n",
    "\n",
    "### Model Testing Phase\n",
    "\n",
    "------------------------"
   ]
  },
  {
   "cell_type": "markdown",
   "metadata": {},
   "source": [
    "#### 1. Predict"
   ]
  },
  {
   "cell_type": "code",
   "execution_count": 39,
   "metadata": {},
   "outputs": [
    {
     "data": {
      "text/html": [
       "<table>\n",
       "<caption>A tibble: 27 × 6</caption>\n",
       "<thead>\n",
       "\t<tr><th scope=col>.pred_class</th><th scope=col>sepal_length_cm</th><th scope=col>sepal_width_cm</th><th scope=col>petal_length_cm</th><th scope=col>petal_width_cm</th><th scope=col>class</th></tr>\n",
       "\t<tr><th scope=col>&lt;fct&gt;</th><th scope=col>&lt;dbl&gt;</th><th scope=col>&lt;dbl&gt;</th><th scope=col>&lt;dbl&gt;</th><th scope=col>&lt;dbl&gt;</th><th scope=col>&lt;fct&gt;</th></tr>\n",
       "</thead>\n",
       "<tbody>\n",
       "\t<tr><td>Iris-setosa</td><td>5.1</td><td>3.5</td><td>1.4</td><td>0.2</td><td>Iris-setosa</td></tr>\n",
       "\t<tr><td>Iris-setosa</td><td>4.4</td><td>2.9</td><td>1.4</td><td>0.2</td><td>Iris-setosa</td></tr>\n",
       "\t<tr><td>Iris-setosa</td><td>4.9</td><td>3.1</td><td>1.5</td><td>0.1</td><td>Iris-setosa</td></tr>\n",
       "\t<tr><td>⋮</td><td>⋮</td><td>⋮</td><td>⋮</td><td>⋮</td><td>⋮</td></tr>\n",
       "\t<tr><td>Iris-virginica</td><td>6.4</td><td>3.1</td><td>5.5</td><td>1.8</td><td>Iris-virginica</td></tr>\n",
       "\t<tr><td>Iris-virginica</td><td>6.9</td><td>3.1</td><td>5.4</td><td>2.1</td><td>Iris-virginica</td></tr>\n",
       "\t<tr><td>Iris-virginica</td><td>6.7</td><td>3.0</td><td>5.2</td><td>2.3</td><td>Iris-virginica</td></tr>\n",
       "</tbody>\n",
       "</table>\n"
      ],
      "text/latex": [
       "A tibble: 27 × 6\n",
       "\\begin{tabular}{llllll}\n",
       " .pred\\_class & sepal\\_length\\_cm & sepal\\_width\\_cm & petal\\_length\\_cm & petal\\_width\\_cm & class\\\\\n",
       " <fct> & <dbl> & <dbl> & <dbl> & <dbl> & <fct>\\\\\n",
       "\\hline\n",
       "\t Iris-setosa & 5.1 & 3.5 & 1.4 & 0.2 & Iris-setosa\\\\\n",
       "\t Iris-setosa & 4.4 & 2.9 & 1.4 & 0.2 & Iris-setosa\\\\\n",
       "\t Iris-setosa & 4.9 & 3.1 & 1.5 & 0.1 & Iris-setosa\\\\\n",
       "\t ⋮ & ⋮ & ⋮ & ⋮ & ⋮ & ⋮\\\\\n",
       "\t Iris-virginica & 6.4 & 3.1 & 5.5 & 1.8 & Iris-virginica\\\\\n",
       "\t Iris-virginica & 6.9 & 3.1 & 5.4 & 2.1 & Iris-virginica\\\\\n",
       "\t Iris-virginica & 6.7 & 3.0 & 5.2 & 2.3 & Iris-virginica\\\\\n",
       "\\end{tabular}\n"
      ],
      "text/markdown": [
       "\n",
       "A tibble: 27 × 6\n",
       "\n",
       "| .pred_class &lt;fct&gt; | sepal_length_cm &lt;dbl&gt; | sepal_width_cm &lt;dbl&gt; | petal_length_cm &lt;dbl&gt; | petal_width_cm &lt;dbl&gt; | class &lt;fct&gt; |\n",
       "|---|---|---|---|---|---|\n",
       "| Iris-setosa | 5.1 | 3.5 | 1.4 | 0.2 | Iris-setosa |\n",
       "| Iris-setosa | 4.4 | 2.9 | 1.4 | 0.2 | Iris-setosa |\n",
       "| Iris-setosa | 4.9 | 3.1 | 1.5 | 0.1 | Iris-setosa |\n",
       "| ⋮ | ⋮ | ⋮ | ⋮ | ⋮ | ⋮ |\n",
       "| Iris-virginica | 6.4 | 3.1 | 5.5 | 1.8 | Iris-virginica |\n",
       "| Iris-virginica | 6.9 | 3.1 | 5.4 | 2.1 | Iris-virginica |\n",
       "| Iris-virginica | 6.7 | 3.0 | 5.2 | 2.3 | Iris-virginica |\n",
       "\n"
      ],
      "text/plain": [
       "   .pred_class    sepal_length_cm sepal_width_cm petal_length_cm petal_width_cm\n",
       "1  Iris-setosa    5.1             3.5            1.4             0.2           \n",
       "2  Iris-setosa    4.4             2.9            1.4             0.2           \n",
       "3  Iris-setosa    4.9             3.1            1.5             0.1           \n",
       "⋮  ⋮              ⋮               ⋮              ⋮               ⋮             \n",
       "25 Iris-virginica 6.4             3.1            5.5             1.8           \n",
       "26 Iris-virginica 6.9             3.1            5.4             2.1           \n",
       "27 Iris-virginica 6.7             3.0            5.2             2.3           \n",
       "   class         \n",
       "1  Iris-setosa   \n",
       "2  Iris-setosa   \n",
       "3  Iris-setosa   \n",
       "⋮  ⋮             \n",
       "25 Iris-virginica\n",
       "26 Iris-virginica\n",
       "27 Iris-virginica"
      ]
     },
     "metadata": {},
     "output_type": "display_data"
    }
   ],
   "source": [
    "iris_test_predictions <- predict(iris_fit, iris_test) %>% \n",
    "    bind_cols(iris_test)\n",
    "\n",
    "iris_test_predictions"
   ]
  },
  {
   "cell_type": "markdown",
   "metadata": {},
   "source": [
    "#### 2. Assess accuracy of predictions"
   ]
  },
  {
   "cell_type": "code",
   "execution_count": 41,
   "metadata": {},
   "outputs": [
    {
     "data": {
      "text/html": [
       "<table>\n",
       "<caption>A tibble: 2 × 3</caption>\n",
       "<thead>\n",
       "\t<tr><th scope=col>.metric</th><th scope=col>.estimator</th><th scope=col>.estimate</th></tr>\n",
       "\t<tr><th scope=col>&lt;chr&gt;</th><th scope=col>&lt;chr&gt;</th><th scope=col>&lt;dbl&gt;</th></tr>\n",
       "</thead>\n",
       "<tbody>\n",
       "\t<tr><td>accuracy</td><td>multiclass</td><td>0.9629630</td></tr>\n",
       "\t<tr><td>kap     </td><td>multiclass</td><td>0.9444444</td></tr>\n",
       "</tbody>\n",
       "</table>\n"
      ],
      "text/latex": [
       "A tibble: 2 × 3\n",
       "\\begin{tabular}{lll}\n",
       " .metric & .estimator & .estimate\\\\\n",
       " <chr> & <chr> & <dbl>\\\\\n",
       "\\hline\n",
       "\t accuracy & multiclass & 0.9629630\\\\\n",
       "\t kap      & multiclass & 0.9444444\\\\\n",
       "\\end{tabular}\n"
      ],
      "text/markdown": [
       "\n",
       "A tibble: 2 × 3\n",
       "\n",
       "| .metric &lt;chr&gt; | .estimator &lt;chr&gt; | .estimate &lt;dbl&gt; |\n",
       "|---|---|---|\n",
       "| accuracy | multiclass | 0.9629630 |\n",
       "| kap      | multiclass | 0.9444444 |\n",
       "\n"
      ],
      "text/plain": [
       "  .metric  .estimator .estimate\n",
       "1 accuracy multiclass 0.9629630\n",
       "2 kap      multiclass 0.9444444"
      ]
     },
     "metadata": {},
     "output_type": "display_data"
    },
    {
     "data": {
      "text/plain": [
       "                 Truth\n",
       "Prediction        Iris-setosa Iris-versicolor Iris-virginica\n",
       "  Iris-setosa               9               0              0\n",
       "  Iris-versicolor           0               9              1\n",
       "  Iris-virginica            0               0              8"
      ]
     },
     "metadata": {},
     "output_type": "display_data"
    }
   ],
   "source": [
    "iris_metrics_final <- iris_test_predictions %>% \n",
    "    metrics(truth = class, estimate = .pred_class)\n",
    "\n",
    "iris_conf_mat <- iris_test_predictions %>% \n",
    "    conf_mat(truth = class, estimate = .pred_class)\n",
    "\n",
    "iris_metrics_final\n",
    "iris_conf_mat"
   ]
  },
  {
   "cell_type": "markdown",
   "metadata": {},
   "source": [
    "<br>\n",
    "\n",
    "## Methods:"
   ]
  },
  {
   "cell_type": "markdown",
   "metadata": {},
   "source": [
    "We will be splitting our data into 80% for training and 20% for the testing set. We will use the $K$-Nearest Neighbor method and tidymodels library functions to train our data. We will also perform cross-validation with 5 folds for finding the optimal $K$ value. Since we only have 4 variables(i.e. sepal length,sepal width, petal length,petal width) and all of them depict crucial measurements of the flower, we will be using them all for data analysis."
   ]
  },
  {
   "cell_type": "markdown",
   "metadata": {},
   "source": [
    "We plan to visualize the results using...\n",
    "1. A confusion matrix\n",
    "2. A scatterplot graph with coloured decision regions"
   ]
  }
 ],
 "metadata": {
  "kernelspec": {
   "display_name": "R",
   "language": "R",
   "name": "ir"
  },
  "language_info": {
   "codemirror_mode": "r",
   "file_extension": ".r",
   "mimetype": "text/x-r-source",
   "name": "R",
   "pygments_lexer": "r",
   "version": "4.0.0"
  }
 },
 "nbformat": 4,
 "nbformat_minor": 4
}
