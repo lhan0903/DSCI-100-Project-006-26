{
 "cells": [
  {
   "cell_type": "markdown",
   "metadata": {},
   "source": [
    "# Group 006-26 Project Report\n",
    "#### Linda Han, Shaqed Orr, Eric Zhang, Prabhjot Singh\n",
    "\n",
    "## Introduction:\n",
    "There are a number of different factors that are attributed to different species of iris flowers. Our multivariable dataset provides information on sepal length, sepal width, petal length, and petal width, that we can use to predict the particular species of flower.\n",
    "\n",
    "\n",
    "We want to predict the species of an iris flower given its:\n",
    "1. sepal length in cm \n",
    "2. sepal width in cm\n",
    "3. petal length in cm\n",
    "4. petal width in cm\n",
    "\n",
    "\n",
    "We will be using the Iris data set found on https://archive.ics.uci.edu/ml/datasets/iris. This set contains 3 classes of 50 instances each, where each class refers to a species of iris plant. The species are Iris Setosa, Iris Versicolour, and Iris Virginica\n"
   ]
  },
  {
   "cell_type": "markdown",
   "metadata": {},
   "source": [
    "## Preliminary data analysis:\n",
    "First, we load in all the necessary libraries."
   ]
  },
  {
   "cell_type": "code",
   "execution_count": null,
   "metadata": {},
   "outputs": [],
   "source": [
    "library(tidyverse)\n",
    "library(repr)\n",
    "library(tidymodels)\n",
    "\n",
    "options(repr.matrix.max.rows = 6) # this lists only 6 rows when we try to display the dataset"
   ]
  },
  {
   "cell_type": "markdown",
   "metadata": {},
   "source": [
    "#### Reading and cleaning the data\n",
    "\n",
    "1) Read the iris dataset using read_csv function\n",
    "\n",
    "2) We added column names to reflect each of the attributes, as well as changed the data type of **class** column from character into factor. Otherwise, our data is tidy, because the dataset already has only one row per observation, each column is a single variable (either a measurement of the iris flower or its species), and each value is in a single cell.\n"
   ]
  },
  {
   "cell_type": "code",
   "execution_count": null,
   "metadata": {},
   "outputs": [],
   "source": [
    "iris_col <- c(\"sepal_length_cm\", \"sepal_width_cm\", \"petal_length_cm\", \"petal_width_cm\", \"class\")\n",
    "iris <- read_csv(\"data/iris.data\", col_names= iris_col) %>% \n",
    "        mutate(class = as_factor(class))\n",
    "iris"
   ]
  },
  {
   "cell_type": "markdown",
   "metadata": {},
   "source": [
    "<br>\n",
    "\n",
    "#### Summary of the training data"
   ]
  },
  {
   "cell_type": "markdown",
   "metadata": {},
   "source": [
    "We first split the data into training and testing sets"
   ]
  },
  {
   "cell_type": "code",
   "execution_count": null,
   "metadata": {},
   "outputs": [],
   "source": [
    "set.seed(777)\n",
    "\n",
    "iris_split <- initial_split(iris, prop = 0.80, strata = class)\n",
    "iris_train <- training(iris_split)\n",
    "iris_test <- testing(iris_split)"
   ]
  },
  {
   "cell_type": "markdown",
   "metadata": {},
   "source": [
    "<br>\n",
    "\n",
    "Using only training data, we summarize the data into 2 tables and count the number of rows with missing values"
   ]
  },
  {
   "cell_type": "code",
   "execution_count": null,
   "metadata": {},
   "outputs": [],
   "source": [
    "# Summarizes the average value of each column\n",
    "iris_avg_size <- iris_train %>%\n",
    "        summarize(across(sepal_length_cm:petal_width_cm, mean))\n",
    "iris_avg_size\n",
    "\n",
    "# Summarizes the number of observations in each class \n",
    "# (Iris-setosa, Iris-veriscolor, or Iris-virginica)\n",
    "iris_class_count <- iris_train %>%\n",
    "        count(class)\n",
    "iris_class_count\n",
    "\n",
    "# Counts the number of missing rows\n",
    "sum(is.na(iris_train))"
   ]
  },
  {
   "cell_type": "markdown",
   "metadata": {},
   "source": [
    "<br>\n",
    "\n",
    "#### Visualization of the training data\n",
    "\n",
    "Using only training data, visualize the data with at least one plot relevant to the analysis you plan to do (this is exploratory data analysis). An example of a useful visualization could be one that compares the distributions of each of the predictor variables you plan to use in your analysis."
   ]
  },
  {
   "cell_type": "code",
   "execution_count": null,
   "metadata": {},
   "outputs": [],
   "source": [
    "# Graph 1\n",
    "iris_plot_sepal <- ggplot(data = iris_train, \n",
    "                          aes(x = sepal_length_cm, y = sepal_width_cm , colour = class )) +\n",
    "                geom_point() +\n",
    "                labs(x = \"Sepal length (cm)\", y = \"Sepal width (cm)\" , colour = \"class\") +\n",
    "                ggtitle(\"Sepal Width vs Sepal Length\") +\n",
    "                theme(text = element_text(size = 20))\n",
    "\n",
    "iris_plot_sepal"
   ]
  },
  {
   "cell_type": "code",
   "execution_count": null,
   "metadata": {},
   "outputs": [],
   "source": [
    "# Graph 2\n",
    "iris_plot_petal <- ggplot(data = iris_train,\n",
    "                          aes(x = petal_length_cm, y = petal_width_cm , colour = class )) +\n",
    "                    geom_point() +\n",
    "                    labs(x = \"Petal length (cm)\", y = \"Petal width (cm)\" , colour = \"Class\") +\n",
    "                    ggtitle(\"Petal Width vs Petal Length\") +\n",
    "                    theme(text = element_text(size = 20))\n",
    "\n",
    "iris_plot_petal"
   ]
  },
  {
   "cell_type": "markdown",
   "metadata": {},
   "source": [
    "## Data analysis (Building a classifier):"
   ]
  },
  {
   "cell_type": "code",
   "execution_count": null,
   "metadata": {},
   "outputs": [],
   "source": [
    "# 1. Recipe\n",
    "iris_recipe <- recipe(class ~ ., data = iris_train) %>%\n",
    "                step_center(all_predictors()) %>%\n",
    "                step_scale(all_predictors())\n",
    "\n",
    "# 2. Specification\n",
    "iris_spec <- nearest_neighbor(weight_func = \"rectangular\", neighbors = tune()) %>% \n",
    "            set_engine(\"kknn\") %>% \n",
    "            set_mode(\"classification\")\n",
    "\n",
    "# 3. vfold\n",
    "iris_vfold <- vfold_cv(data = iris_train, fold = 5, strata = class)\n",
    "\n",
    "# 4. workflow\n",
    "iris_workflow <- workflow() %>% \n",
    "                add_recipe(iris_recipe) %>% \n",
    "                add_model(iris_spec) %>% \n",
    "                tune_grid(resamples = iris_vfold, grid = 10) \n",
    "                \n",
    "# 5. metrics and accuracies\n",
    "iris_accuracies <- iris_workflow %>% \n",
    "                collect_metrics() %>% \n",
    "                filter(.metric == \"accuracy\") %>% \n",
    "                arrange(desc(mean))\n",
    "\n",
    "iris_accuracies"
   ]
  },
  {
   "cell_type": "markdown",
   "metadata": {},
   "source": [
    "### Now we retrain our data with the optimal $K = 11 $"
   ]
  },
  {
   "cell_type": "code",
   "execution_count": null,
   "metadata": {},
   "outputs": [],
   "source": [
    "# 1. New specification\n",
    "iris_new_spec <- nearest_neighbor(weight_func = \"rectangular\", neighbors = 11) %>% \n",
    "                set_engine(\"kknn\") %>% \n",
    "                set_mode(\"classification\")\n",
    "                \n",
    "# 2. New workflow\n",
    "iris_workflow <- workflow() %>% \n",
    "                add_recipe(iris_recipe) %>% \n",
    "                add_model(iris_new_spec) %>% \n",
    "                fit(iris_train)\n",
    "\n",
    "iris_workflow"
   ]
  },
  {
   "cell_type": "code",
   "execution_count": null,
   "metadata": {},
   "outputs": [],
   "source": []
  }
 ],
 "metadata": {
  "kernelspec": {
   "display_name": "R",
   "language": "R",
   "name": "ir"
  },
  "language_info": {
   "codemirror_mode": "r",
   "file_extension": ".r",
   "mimetype": "text/x-r-source",
   "name": "R",
   "pygments_lexer": "r",
   "version": "4.0.0"
  }
 },
 "nbformat": 4,
 "nbformat_minor": 4
}
