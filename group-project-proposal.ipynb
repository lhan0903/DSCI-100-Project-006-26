{
 "cells": [
  {
   "cell_type": "markdown",
   "metadata": {},
   "source": [
    "# Group 006-26 Project Report\n",
    "#### Linda Han, Shaqed Orr, Eric Zhang, Prabhjot Singh\n",
    "\n",
    "## Introduction:\n",
    "There are a number of different factors that are attributed to different species of iris flowers. Our multivariable dataset provides information on sepal length, sepal width, petal length, and petal width, that we can use to predict the particular species of flower.\n",
    "\n",
    "\n",
    "We want to predict the species of an iris flower given its:\n",
    "1. sepal length in cm \n",
    "2. sepal width in cm\n",
    "3. petal length in cm\n",
    "4. petal width in cm\n",
    "\n",
    "\n",
    "We will be using the Iris data set found on https://archive.ics.uci.edu/ml/datasets/iris. This set contains 3 classes of 50 instances each, where each class refers to a species of iris plant. The species are Iris Setosa, Iris Versicolour, and Iris Virginica\n"
   ]
  },
  {
   "cell_type": "markdown",
   "metadata": {},
   "source": [
    "## Preliminary data analysis:\n",
    "First, we load in all the necessary libraries."
   ]
  },
  {
   "cell_type": "code",
   "execution_count": 1,
   "metadata": {},
   "outputs": [
    {
     "name": "stderr",
     "output_type": "stream",
     "text": [
      "── \u001b[1mAttaching packages\u001b[22m ─────────────────────────────────────── tidyverse 1.3.0 ──\n",
      "\n",
      "\u001b[32m✔\u001b[39m \u001b[34mggplot2\u001b[39m 3.3.2     \u001b[32m✔\u001b[39m \u001b[34mpurrr  \u001b[39m 0.3.4\n",
      "\u001b[32m✔\u001b[39m \u001b[34mtibble \u001b[39m 3.0.3     \u001b[32m✔\u001b[39m \u001b[34mdplyr  \u001b[39m 1.0.2\n",
      "\u001b[32m✔\u001b[39m \u001b[34mtidyr  \u001b[39m 1.1.2     \u001b[32m✔\u001b[39m \u001b[34mstringr\u001b[39m 1.4.0\n",
      "\u001b[32m✔\u001b[39m \u001b[34mreadr  \u001b[39m 1.3.1     \u001b[32m✔\u001b[39m \u001b[34mforcats\u001b[39m 0.5.0\n",
      "\n",
      "Warning message:\n",
      "“package ‘ggplot2’ was built under R version 4.0.1”\n",
      "Warning message:\n",
      "“package ‘tibble’ was built under R version 4.0.2”\n",
      "Warning message:\n",
      "“package ‘tidyr’ was built under R version 4.0.2”\n",
      "Warning message:\n",
      "“package ‘dplyr’ was built under R version 4.0.2”\n",
      "── \u001b[1mConflicts\u001b[22m ────────────────────────────────────────── tidyverse_conflicts() ──\n",
      "\u001b[31m✖\u001b[39m \u001b[34mdplyr\u001b[39m::\u001b[32mfilter()\u001b[39m masks \u001b[34mstats\u001b[39m::filter()\n",
      "\u001b[31m✖\u001b[39m \u001b[34mdplyr\u001b[39m::\u001b[32mlag()\u001b[39m    masks \u001b[34mstats\u001b[39m::lag()\n",
      "\n",
      "Warning message:\n",
      "“package ‘tidymodels’ was built under R version 4.0.2”\n",
      "── \u001b[1mAttaching packages\u001b[22m ────────────────────────────────────── tidymodels 0.1.1 ──\n",
      "\n",
      "\u001b[32m✔\u001b[39m \u001b[34mbroom    \u001b[39m 0.7.0      \u001b[32m✔\u001b[39m \u001b[34mrecipes  \u001b[39m 0.1.13\n",
      "\u001b[32m✔\u001b[39m \u001b[34mdials    \u001b[39m 0.0.9      \u001b[32m✔\u001b[39m \u001b[34mrsample  \u001b[39m 0.0.7 \n",
      "\u001b[32m✔\u001b[39m \u001b[34minfer    \u001b[39m 0.5.4      \u001b[32m✔\u001b[39m \u001b[34mtune     \u001b[39m 0.1.1 \n",
      "\u001b[32m✔\u001b[39m \u001b[34mmodeldata\u001b[39m 0.0.2      \u001b[32m✔\u001b[39m \u001b[34mworkflows\u001b[39m 0.2.0 \n",
      "\u001b[32m✔\u001b[39m \u001b[34mparsnip  \u001b[39m 0.1.3      \u001b[32m✔\u001b[39m \u001b[34myardstick\u001b[39m 0.0.7 \n",
      "\n",
      "Warning message:\n",
      "“package ‘broom’ was built under R version 4.0.2”\n",
      "Warning message:\n",
      "“package ‘dials’ was built under R version 4.0.2”\n",
      "Warning message:\n",
      "“package ‘infer’ was built under R version 4.0.3”\n",
      "Warning message:\n",
      "“package ‘modeldata’ was built under R version 4.0.1”\n",
      "Warning message:\n",
      "“package ‘parsnip’ was built under R version 4.0.2”\n",
      "Warning message:\n",
      "“package ‘recipes’ was built under R version 4.0.1”\n",
      "Warning message:\n",
      "“package ‘tune’ was built under R version 4.0.2”\n",
      "Warning message:\n",
      "“package ‘workflows’ was built under R version 4.0.2”\n",
      "Warning message:\n",
      "“package ‘yardstick’ was built under R version 4.0.2”\n",
      "── \u001b[1mConflicts\u001b[22m ───────────────────────────────────────── tidymodels_conflicts() ──\n",
      "\u001b[31m✖\u001b[39m \u001b[34mscales\u001b[39m::\u001b[32mdiscard()\u001b[39m masks \u001b[34mpurrr\u001b[39m::discard()\n",
      "\u001b[31m✖\u001b[39m \u001b[34mdplyr\u001b[39m::\u001b[32mfilter()\u001b[39m   masks \u001b[34mstats\u001b[39m::filter()\n",
      "\u001b[31m✖\u001b[39m \u001b[34mrecipes\u001b[39m::\u001b[32mfixed()\u001b[39m  masks \u001b[34mstringr\u001b[39m::fixed()\n",
      "\u001b[31m✖\u001b[39m \u001b[34mdplyr\u001b[39m::\u001b[32mlag()\u001b[39m      masks \u001b[34mstats\u001b[39m::lag()\n",
      "\u001b[31m✖\u001b[39m \u001b[34myardstick\u001b[39m::\u001b[32mspec()\u001b[39m masks \u001b[34mreadr\u001b[39m::spec()\n",
      "\u001b[31m✖\u001b[39m \u001b[34mrecipes\u001b[39m::\u001b[32mstep()\u001b[39m   masks \u001b[34mstats\u001b[39m::step()\n",
      "\n"
     ]
    }
   ],
   "source": [
    "library(tidyverse)\n",
    "library(repr)\n",
    "library(tidymodels)\n",
    "\n",
    "options(repr.matrix.max.rows = 6) # this lists only 6 rows when we try to display the dataset"
   ]
  },
  {
   "cell_type": "markdown",
   "metadata": {},
   "source": [
    "#### Reading and cleaning the data\n",
    "\n",
    "1) Read the iris dataset using read_csv function\n",
    "\n",
    "2) We added column names to reflect each of the attributes, as well as changed the data type of **class** column from character into factor. Otherwise, our data is tidy, because the dataset already has only one row per observation, each column is a single variable (either a measurement of the iris flower or its species), and each value is in a single cell.\n"
   ]
  },
  {
   "cell_type": "code",
   "execution_count": 2,
   "metadata": {},
   "outputs": [
    {
     "ename": "ERROR",
     "evalue": "Error: 'data/iris.data' does not exist in current working directory ('/home/jupyter/DSCI-100-Project-006-26').\n",
     "output_type": "error",
     "traceback": [
      "Error: 'data/iris.data' does not exist in current working directory ('/home/jupyter/DSCI-100-Project-006-26').\nTraceback:\n",
      "1. read_csv(\"data/iris.data\", col_names = iris_col) %>% mutate(class = as_factor(class))",
      "2. eval(lhs, parent, parent)",
      "3. eval(lhs, parent, parent)",
      "4. read_csv(\"data/iris.data\", col_names = iris_col)",
      "5. read_delimited(file, tokenizer, col_names = col_names, col_types = col_types, \n .     locale = locale, skip = skip, skip_empty_rows = skip_empty_rows, \n .     comment = comment, n_max = n_max, guess_max = guess_max, \n .     progress = progress)",
      "6. standardise_path(file)",
      "7. check_path(path)",
      "8. stop(\"'\", path, \"' does not exist\", if (!is_absolute_path(path)) paste0(\" in current working directory ('\", \n .     getwd(), \"')\"), \".\", call. = FALSE)"
     ]
    }
   ],
   "source": [
    "iris_col <- c(\"sepal_length_cm\", \"sepal_width_cm\", \"petal_length_cm\", \"petal_width_cm\", \"class\")\n",
    "iris <- read_csv(\"data/iris.data\", col_names= iris_col) %>% \n",
    "        mutate(class = as_factor(class))\n",
    "iris"
   ]
  },
  {
   "cell_type": "markdown",
   "metadata": {},
   "source": [
    "<br>\n",
    "\n",
    "#### Summary of the training data"
   ]
  },
  {
   "cell_type": "markdown",
   "metadata": {},
   "source": [
    "We first split the data into training and testing sets"
   ]
  },
  {
   "cell_type": "code",
   "execution_count": null,
   "metadata": {},
   "outputs": [],
   "source": [
    "set.seed(777)\n",
    "\n",
    "iris_split <- initial_split(iris, prop = 0.80, strata = class)\n",
    "iris_train <- training(iris_split)\n",
    "iris_test <- testing(iris_split)"
   ]
  },
  {
   "cell_type": "markdown",
   "metadata": {},
   "source": [
    "<br>\n",
    "\n",
    "Using only training data, we summarize the data into 2 tables and count the number of rows with missing values"
   ]
  },
  {
   "cell_type": "code",
   "execution_count": null,
   "metadata": {},
   "outputs": [],
   "source": [
    "# Summarizes the average value of each column\n",
    "iris_avg_size <- iris_train %>%\n",
    "        summarize(across(sepal_length_cm:petal_width_cm, mean))\n",
    "iris_avg_size\n",
    "\n",
    "# Summarizes the number of observations in each class \n",
    "# (Iris-setosa, Iris-veriscolor, or Iris-virginica)\n",
    "iris_class_count <- iris_train %>%\n",
    "        count(class)\n",
    "iris_class_count\n",
    "\n",
    "# Counts the number of missing rows\n",
    "sum(is.na(iris_train))"
   ]
  },
  {
   "cell_type": "markdown",
   "metadata": {},
   "source": [
    "<br>\n",
    "\n",
    "#### Visualization of the training data\n",
    "\n",
    "Using only training data, visualize the data with at least one plot relevant to the analysis you plan to do (this is exploratory data analysis). An example of a useful visualization could be one that compares the distributions of each of the predictor variables you plan to use in your analysis."
   ]
  },
  {
   "cell_type": "code",
   "execution_count": null,
   "metadata": {},
   "outputs": [],
   "source": [
    "# Graph 1\n",
    "iris_plot_sepal <- ggplot(data = iris_train, \n",
    "                          aes(x = sepal_length_cm, y = sepal_width_cm , colour = class )) +\n",
    "                geom_point() +\n",
    "                labs(x = \"Sepal length (cm)\", y = \"Sepal width (cm)\" , colour = \"class\") +\n",
    "                ggtitle(\"Sepal Width vs Sepal Length\") +\n",
    "                theme(text = element_text(size = 20))\n",
    "\n",
    "iris_plot_sepal"
   ]
  },
  {
   "cell_type": "code",
   "execution_count": null,
   "metadata": {},
   "outputs": [],
   "source": [
    "# Graph 2\n",
    "iris_plot_petal <- ggplot(data = iris_train,\n",
    "                          aes(x = petal_length_cm, y = petal_width_cm , colour = class )) +\n",
    "                    geom_point() +\n",
    "                    labs(x = \"Petal length (cm)\", y = \"Petal width (cm)\" , colour = \"Class\") +\n",
    "                    ggtitle(\"Petal Width vs Petal Length\") +\n",
    "                    theme(text = element_text(size = 20))\n",
    "\n",
    "iris_plot_petal"
   ]
  },
  {
   "cell_type": "markdown",
   "metadata": {},
   "source": [
    "## Data analysis (Building a classifier):"
   ]
  },
  {
   "cell_type": "code",
   "execution_count": null,
   "metadata": {},
   "outputs": [],
   "source": [
    "# 1. Recipe\n",
    "iris_recipe <- recipe(class ~ ., data = iris_train) %>%\n",
    "                step_center(all_predictors()) %>%\n",
    "                step_scale(all_predictors())\n",
    "\n",
    "# 2. Specification\n",
    "iris_spec <- nearest_neighbor(weight_func = \"rectangular\", neighbors = tune()) %>% \n",
    "            set_engine(\"kknn\") %>% \n",
    "            set_mode(\"classification\")\n",
    "\n",
    "# 3. vfold\n",
    "iris_vfold <- vfold_cv(data = iris_train, fold = 5, strata = class)\n",
    "\n",
    "# 4. workflow\n",
    "iris_workflow <- workflow() %>% \n",
    "                add_recipe(iris_recipe) %>% \n",
    "                add_model(iris_spec) %>% \n",
    "                tune_grid(resamples = iris_vfold, grid = 10) \n",
    "                \n",
    "# 5. metrics and accuracies\n",
    "iris_accuracies <- iris_workflow %>% \n",
    "                collect_metrics() %>% \n",
    "                filter(.metric == \"accuracy\") %>% \n",
    "                arrange(desc(mean))\n",
    "\n",
    "iris_accuracies"
   ]
  },
  {
   "cell_type": "markdown",
   "metadata": {},
   "source": [
    "### Now we retrain our data with the optimal $K = 11 $"
   ]
  },
  {
   "cell_type": "code",
   "execution_count": null,
   "metadata": {},
   "outputs": [],
   "source": [
    "# 1. New specification\n",
    "iris_new_spec <- nearest_neighbor(weight_func = \"rectangular\", neighbors = 11) %>% \n",
    "                set_engine(\"kknn\") %>% \n",
    "                set_mode(\"classification\")\n",
    "                \n",
    "# 2. New workflow\n",
    "iris_workflow <- workflow() %>% \n",
    "                add_recipe(iris_recipe) %>% \n",
    "                add_model(iris_new_spec) %>% \n",
    "                fit(iris_train)\n",
    "\n",
    "iris_workflow"
   ]
  },
  {
   "cell_type": "code",
   "execution_count": null,
   "metadata": {},
   "outputs": [],
   "source": []
  }
 ],
 "metadata": {
  "kernelspec": {
   "display_name": "R",
   "language": "R",
   "name": "ir"
  },
  "language_info": {
   "codemirror_mode": "r",
   "file_extension": ".r",
   "mimetype": "text/x-r-source",
   "name": "R",
   "pygments_lexer": "r",
   "version": "4.0.0"
  }
 },
 "nbformat": 4,
 "nbformat_minor": 4
}
